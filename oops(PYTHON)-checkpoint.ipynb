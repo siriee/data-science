{
 "cells": [
  {
   "cell_type": "markdown",
   "id": "9f5d4574",
   "metadata": {},
   "source": [
    "oops(object oriented programming language in python)"
   ]
  },
  {
   "cell_type": "markdown",
   "id": "e2689a55",
   "metadata": {},
   "source": [
    "class is design which allows to create objects\n",
    "class contains attributes and methods allowed on its object"
   ]
  },
  {
   "cell_type": "code",
   "execution_count": 2,
   "id": "e8f95cfd",
   "metadata": {},
   "outputs": [],
   "source": [
    "class car:\n",
    "    def company(self):\n",
    "        print('alto')\n"
   ]
  },
  {
   "cell_type": "code",
   "execution_count": 3,
   "id": "d75c0f02",
   "metadata": {},
   "outputs": [
    {
     "name": "stdout",
     "output_type": "stream",
     "text": [
      "<__main__.car object at 0x01184E08>\n",
      "alto\n"
     ]
    }
   ],
   "source": [
    "c1=car()\n",
    "print(c1)\n",
    "c1.company()    #invoking method through objects"
   ]
  },
  {
   "cell_type": "code",
   "execution_count": 4,
   "id": "b38845e6",
   "metadata": {},
   "outputs": [
    {
     "name": "stdout",
     "output_type": "stream",
     "text": [
      "<class '__main__.car'>\n"
     ]
    }
   ],
   "source": [
    "print(type(c1))"
   ]
  },
  {
   "cell_type": "code",
   "execution_count": 5,
   "id": "24f0e904",
   "metadata": {},
   "outputs": [
    {
     "name": "stdout",
     "output_type": "stream",
     "text": [
      "alto\n"
     ]
    }
   ],
   "source": [
    "car.company(c1)    #another way to invoke method"
   ]
  },
  {
   "cell_type": "code",
   "execution_count": 6,
   "id": "ad88f3bb",
   "metadata": {},
   "outputs": [
    {
     "ename": "IndentationError",
     "evalue": "expected an indented block (3867025471.py, line 2)",
     "output_type": "error",
     "traceback": [
      "\u001b[1;36m  Input \u001b[1;32mIn [6]\u001b[1;36m\u001b[0m\n\u001b[1;33m    \u001b[0m\n\u001b[1;37m    ^\u001b[0m\n\u001b[1;31mIndentationError\u001b[0m\u001b[1;31m:\u001b[0m expected an indented block\n"
     ]
    }
   ],
   "source": [
    "class person:\n",
    "    "
   ]
  },
  {
   "cell_type": "code",
   "execution_count": 18,
   "id": "5a9bee57",
   "metadata": {},
   "outputs": [],
   "source": [
    "class person:\n",
    "    pass"
   ]
  },
  {
   "cell_type": "code",
   "execution_count": 7,
   "id": "4c1021a7",
   "metadata": {},
   "outputs": [],
   "source": [
    "#__init__method ->invoked automatically\n",
    "class person:\n",
    "    def __init__(self,height,weight):\n",
    "        self.height=height\n",
    "        self.weight=weight\n",
    "    def speak(self):\n",
    "        print(\"i can speak\")\n",
    "    def physic(self):\n",
    "        print('my height is',self.height,'my weight is',self.weight)\n",
    "    def compare(self,other):\n",
    "        if self.height==other.height and self.weight==other.weight:\n",
    "            print(\"both person have same physic\")\n",
    "        else:\n",
    "            print(\"both person don't have same physic\")"
   ]
  },
  {
   "cell_type": "code",
   "execution_count": 8,
   "id": "254d31f3",
   "metadata": {},
   "outputs": [],
   "source": [
    "suji=person(164,67)\n",
    "eshu=person(168,72)"
   ]
  },
  {
   "cell_type": "code",
   "execution_count": 9,
   "id": "c5fab185",
   "metadata": {},
   "outputs": [
    {
     "name": "stdout",
     "output_type": "stream",
     "text": [
      "my height is 164 my weight is 67\n",
      "i can speak\n",
      "both person have same physic\n"
     ]
    }
   ],
   "source": [
    "suji.physic()\n",
    "suji.speak()\n",
    "suji.compare(suji)"
   ]
  },
  {
   "cell_type": "code",
   "execution_count": 10,
   "id": "90fd218d",
   "metadata": {},
   "outputs": [
    {
     "name": "stdout",
     "output_type": "stream",
     "text": [
      "my height is 168 my weight is 72\n",
      "i can speak\n",
      "my height is 168 my weight is 67\n",
      "both person don't have same physic\n"
     ]
    }
   ],
   "source": [
    "eshu.physic()\n",
    "eshu.speak()\n",
    "eshu.weight=67\n",
    "eshu.physic()\n",
    "eshu.compare(suji)"
   ]
  },
  {
   "cell_type": "code",
   "execution_count": 11,
   "id": "9de85438",
   "metadata": {},
   "outputs": [],
   "source": [
    "class sample:\n",
    "    pass\n"
   ]
  },
  {
   "cell_type": "code",
   "execution_count": 12,
   "id": "72e8b34a",
   "metadata": {},
   "outputs": [
    {
     "name": "stdout",
     "output_type": "stream",
     "text": [
      "107315240\n"
     ]
    }
   ],
   "source": [
    "s1=sample()\n",
    "print(id(s1))"
   ]
  },
  {
   "cell_type": "code",
   "execution_count": 13,
   "id": "a2102207",
   "metadata": {},
   "outputs": [
    {
     "name": "stdout",
     "output_type": "stream",
     "text": [
      "107337280 107315240\n"
     ]
    }
   ],
   "source": [
    "s2=sample()\n",
    "print(id(s2),id(s1)) #again new space was created"
   ]
  },
  {
   "cell_type": "code",
   "execution_count": 14,
   "id": "5ef73ba9",
   "metadata": {},
   "outputs": [],
   "source": [
    "#variables are two types in oops\n",
    "#instance variables and class variables"
   ]
  },
  {
   "cell_type": "code",
   "execution_count": 15,
   "id": "9ed26a8d",
   "metadata": {},
   "outputs": [
    {
     "name": "stdout",
     "output_type": "stream",
     "text": [
      "35 wagnor 4\n",
      "40 audi 4\n"
     ]
    }
   ],
   "source": [
    "class car:\n",
    "    wheels=4\n",
    "    def __init__(self,mil,com):\n",
    "        self.mil=mil\n",
    "        self.com=com #these are instance variables which changes with objs\n",
    "    def show(self):\n",
    "        print(self.mil,self.com,self.wheels)\n",
    "c1=car(40,'audi')\n",
    "c2=car(35,'wagnor')\n",
    "c2.show()\n",
    "c1.show()"
   ]
  },
  {
   "cell_type": "code",
   "execution_count": 16,
   "id": "d6ccb417",
   "metadata": {},
   "outputs": [],
   "source": [
    "c1.wheels=3"
   ]
  },
  {
   "cell_type": "code",
   "execution_count": 17,
   "id": "4466df34",
   "metadata": {},
   "outputs": [
    {
     "name": "stdout",
     "output_type": "stream",
     "text": [
      "3\n",
      "4\n"
     ]
    }
   ],
   "source": [
    "print(c1.wheels)\n",
    "print(c2.wheels)"
   ]
  },
  {
   "cell_type": "code",
   "execution_count": 18,
   "id": "0b52ba0a",
   "metadata": {},
   "outputs": [],
   "source": [
    "car.wheels=3"
   ]
  },
  {
   "cell_type": "code",
   "execution_count": 19,
   "id": "51e2ac24",
   "metadata": {},
   "outputs": [
    {
     "name": "stdout",
     "output_type": "stream",
     "text": [
      "40 audi 3\n",
      "35 wagnor 3\n"
     ]
    }
   ],
   "source": [
    "c1.show()\n",
    "c2.show()"
   ]
  },
  {
   "cell_type": "code",
   "execution_count": 20,
   "id": "838a813f",
   "metadata": {},
   "outputs": [
    {
     "name": "stdout",
     "output_type": "stream",
     "text": [
      "40 audi 3\n",
      "35 wagnor 4\n"
     ]
    }
   ],
   "source": [
    "car.wheels=4\n",
    "c1.show()\n",
    "c2.show()"
   ]
  },
  {
   "cell_type": "code",
   "execution_count": 23,
   "id": "a43b0f4a",
   "metadata": {},
   "outputs": [
    {
     "name": "stdout",
     "output_type": "stream",
     "text": [
      "4\n"
     ]
    }
   ],
   "source": [
    "c3=car(40,'innova')\n",
    "print(c3.wheels)"
   ]
  },
  {
   "cell_type": "code",
   "execution_count": 24,
   "id": "100f4ed6",
   "metadata": {},
   "outputs": [],
   "source": [
    "car.wheels=3"
   ]
  },
  {
   "cell_type": "code",
   "execution_count": 25,
   "id": "72e432f4",
   "metadata": {},
   "outputs": [
    {
     "name": "stdout",
     "output_type": "stream",
     "text": [
      "3 3 3\n"
     ]
    }
   ],
   "source": [
    "print(c1.wheels,c2.wheels,c3.wheels)"
   ]
  },
  {
   "cell_type": "code",
   "execution_count": 26,
   "id": "f37a3cb0",
   "metadata": {},
   "outputs": [
    {
     "name": "stdout",
     "output_type": "stream",
     "text": [
      "3 5 5\n"
     ]
    }
   ],
   "source": [
    "car.wheels=5\n",
    "print(c1.wheels,c2.wheels,c3.wheels)"
   ]
  },
  {
   "cell_type": "markdown",
   "id": "bf583623",
   "metadata": {},
   "source": [
    "here wheels are class variables \n",
    "self.mil and self.com are instance variables"
   ]
  },
  {
   "cell_type": "markdown",
   "id": "7ff126c1",
   "metadata": {},
   "source": [
    "types of methods in python\n",
    "->instance methods\n",
    "                  ->accessor method\n",
    "                  ->mutator method\n",
    "->class methods\n",
    "->static methods"
   ]
  },
  {
   "cell_type": "code",
   "execution_count": 38,
   "id": "71adac6e",
   "metadata": {},
   "outputs": [],
   "source": [
    "class student:\n",
    "    school='ratnam'\n",
    "    def __init__(self,m1,m2,m3):\n",
    "        self.m1=m1\n",
    "        self.m2=m2\n",
    "        self.m3=m3\n",
    "    def avg(self):\n",
    "        return (self.m1+self.m2+self.m3)/3     #instance methods\n",
    "    def show(self):\n",
    "        print('the marks are',self.m1,self.m2,self.m3)     #accessor method->used to access\n",
    "    def update(self):\n",
    "        self.m1+=1\n",
    "        self.m2+=1                                      #mutator method->used to modify\n",
    "        self.m3+=1\n",
    "    @classmethod\n",
    "    def info(cls):\n",
    "        print(cls.school)\n",
    "    @staticmethod\n",
    "    def inf():\n",
    "        print('this is independent of instance and class variables')\n",
    "        "
   ]
  },
  {
   "cell_type": "code",
   "execution_count": 41,
   "id": "f2cb45e5",
   "metadata": {},
   "outputs": [
    {
     "name": "stdout",
     "output_type": "stream",
     "text": [
      "the marks are 23 43 45\n",
      "the marks are 34 56 34\n",
      "37.0\n",
      "41.333333333333336\n",
      "ratnam\n",
      "ratnam\n",
      "this is independent of instance and class variables\n",
      "this is independent of instance and class variables\n"
     ]
    }
   ],
   "source": [
    "s1=student(23,43,45)\n",
    "s2=student(34,56,34)\n",
    "s1.show()\n",
    "s2.show()\n",
    "print(s1.avg())\n",
    "print(s2.avg())\n",
    "s1.update()\n",
    "s1.info()\n",
    "student.info()\n",
    "student.inf()\n",
    "s1.inf()"
   ]
  },
  {
   "cell_type": "code",
   "execution_count": 63,
   "id": "852f4c01",
   "metadata": {},
   "outputs": [],
   "source": [
    "#inner class ->class inside another class \n",
    "class student:\n",
    "    def __init__(self,name,rollno):\n",
    "        self.name=name\n",
    "        self.rollno=rollno\n",
    "        self.lap=self.laptop()\n",
    "    def show(self):\n",
    "        print(self.name,self.rollno)\n",
    "        self.lap.show()\n",
    "    class laptop:\n",
    "        def __init__(self):\n",
    "            self.cpu='ryzen'\n",
    "            self.ram=16\n",
    "        def show(self):\n",
    "            print(self.cpu,self.ram)"
   ]
  },
  {
   "cell_type": "code",
   "execution_count": 64,
   "id": "a40a8df3",
   "metadata": {},
   "outputs": [
    {
     "name": "stdout",
     "output_type": "stream",
     "text": [
      "vamsi 60\n",
      "ryzen 16\n"
     ]
    }
   ],
   "source": [
    "s1=student('vamsi',60)\n",
    "s1.show()"
   ]
  },
  {
   "cell_type": "code",
   "execution_count": 73,
   "id": "c2c067a0",
   "metadata": {},
   "outputs": [],
   "source": [
    "class student:\n",
    "    def __init__(self,name,rollno,cpu,ram):\n",
    "        self.name=name\n",
    "        self.rollno=rollno\n",
    "        self.lap=self.laptop(cpu,ram)\n",
    "    def show(self):\n",
    "        print(self.name,self.rollno)\n",
    "        self.lap.show()\n",
    "    class laptop:\n",
    "        def __init__(self,cpu,ram):\n",
    "            self.cpu=cpu\n",
    "            self.ram=ram\n",
    "        def show(self):\n",
    "            print(self.cpu,self.ram)"
   ]
  },
  {
   "cell_type": "code",
   "execution_count": 76,
   "id": "bf582a1f",
   "metadata": {},
   "outputs": [
    {
     "name": "stdout",
     "output_type": "stream",
     "text": [
      "vamsi 60\n",
      "i5 8\n"
     ]
    }
   ],
   "source": [
    "s1=student('vamsi',60,'i5',8)\n",
    "s1.show()"
   ]
  },
  {
   "cell_type": "code",
   "execution_count": 78,
   "id": "4ec245ca",
   "metadata": {},
   "outputs": [
    {
     "name": "stdout",
     "output_type": "stream",
     "text": [
      "ryzen\n"
     ]
    }
   ],
   "source": [
    "s1.lap.cpu='ryzen'\n",
    "print(s1.lap.cpu)"
   ]
  },
  {
   "cell_type": "markdown",
   "id": "f69e3f9a",
   "metadata": {},
   "source": [
    "INHERITANCE"
   ]
  },
  {
   "cell_type": "code",
   "execution_count": 83,
   "id": "ee4fa4cb",
   "metadata": {},
   "outputs": [],
   "source": [
    "class A:\n",
    "    def f1(self):                                                           \n",
    "        print('feature 1 working')                           # single level inheritance         \n",
    "    def f2(self):\n",
    "        print('feature 2 working')\n",
    "class B(A):\n",
    "    def f3(self):                                          #B is inheriting the properties of A\n",
    "        print('feature 3 working')\n",
    "    def f4(self):\n",
    "        print('feature 4 working')"
   ]
  },
  {
   "cell_type": "code",
   "execution_count": 85,
   "id": "3d2ec725",
   "metadata": {},
   "outputs": [
    {
     "name": "stdout",
     "output_type": "stream",
     "text": [
      "feature 1 working\n",
      "feature 2 working\n",
      "feature 3 working\n",
      "feature 4 working\n"
     ]
    }
   ],
   "source": [
    "obj=B()\n",
    "obj.f1()\n",
    "obj.f2()\n",
    "obj.f3()\n",
    "obj.f4()"
   ]
  },
  {
   "cell_type": "code",
   "execution_count": 86,
   "id": "2b052d0b",
   "metadata": {},
   "outputs": [
    {
     "name": "stdout",
     "output_type": "stream",
     "text": [
      "feature 1 working\n",
      "feature 2 working\n"
     ]
    }
   ],
   "source": [
    "obj1=A()\n",
    "obj1.f1()\n",
    "obj1.f2()"
   ]
  },
  {
   "cell_type": "code",
   "execution_count": 87,
   "id": "ca564891",
   "metadata": {},
   "outputs": [
    {
     "ename": "AttributeError",
     "evalue": "'A' object has no attribute 'f3'",
     "output_type": "error",
     "traceback": [
      "\u001b[1;31m---------------------------------------------------------------------------\u001b[0m",
      "\u001b[1;31mAttributeError\u001b[0m                            Traceback (most recent call last)",
      "Input \u001b[1;32mIn [87]\u001b[0m, in \u001b[0;36m<cell line: 1>\u001b[1;34m()\u001b[0m\n\u001b[1;32m----> 1\u001b[0m \u001b[43mobj1\u001b[49m\u001b[38;5;241;43m.\u001b[39;49m\u001b[43mf3\u001b[49m()\n",
      "\u001b[1;31mAttributeError\u001b[0m: 'A' object has no attribute 'f3'"
     ]
    }
   ],
   "source": [
    "obj1.f3()"
   ]
  },
  {
   "cell_type": "code",
   "execution_count": 88,
   "id": "7ddf7372",
   "metadata": {},
   "outputs": [],
   "source": [
    "class A:\n",
    "    def f1(self):                                                           \n",
    "        print('feature 1 working')                                  \n",
    "    def f2(self):                                           #multilevel inheritance\n",
    "        print('feature 2 working')\n",
    "class B(A):\n",
    "    def f3(self):                                          #B is inheriting the properties of A\n",
    "        print('feature 3 working')\n",
    "    def f4(self):\n",
    "        print('feature 4 working')\n",
    "class C(B):\n",
    "    def f5(self):                                          # C is inherting B which inherits A\n",
    "        print('feature 5 working')\n",
    "    def f6(self):\n",
    "        print('feature 6 working')"
   ]
  },
  {
   "cell_type": "code",
   "execution_count": 90,
   "id": "7c7a2aa2",
   "metadata": {},
   "outputs": [
    {
     "name": "stdout",
     "output_type": "stream",
     "text": [
      "feature 1 working\n",
      "feature 2 working\n",
      "feature 3 working\n",
      "feature 4 working\n",
      "feature 5 working\n",
      "feature 6 working\n"
     ]
    }
   ],
   "source": [
    "obj=C()\n",
    "obj.f1()\n",
    "obj.f2()\n",
    "obj.f3()\n",
    "obj.f4()\n",
    "obj.f5()\n",
    "obj.f6()"
   ]
  },
  {
   "cell_type": "code",
   "execution_count": 92,
   "id": "3ba9fd97",
   "metadata": {},
   "outputs": [],
   "source": [
    "class A:\n",
    "    def f1(self):                                                           \n",
    "        print('feature 1 working')                                  \n",
    "    def f2(self):                                           #multiple inheritance\n",
    "        print('feature 2 working')\n",
    "class B:\n",
    "    def f3(self):                                          \n",
    "        print('feature 3 working')\n",
    "    def f4(self):\n",
    "        print('feature 4 working')\n",
    "class C(A,B):\n",
    "    def f5(self):                                          # C is inherting B and A\n",
    "        print('feature 5 working')\n",
    "    def f6(self):\n",
    "        print('feature 6 working')"
   ]
  },
  {
   "cell_type": "code",
   "execution_count": 93,
   "id": "00d3c16c",
   "metadata": {},
   "outputs": [
    {
     "name": "stdout",
     "output_type": "stream",
     "text": [
      "feature 1 working\n",
      "feature 2 working\n",
      "feature 3 working\n",
      "feature 4 working\n",
      "feature 5 working\n",
      "feature 6 working\n"
     ]
    }
   ],
   "source": [
    "c1=C()\n",
    "c1.f1()\n",
    "c1.f2()\n",
    "c1.f3()\n",
    "c1.f4()\n",
    "c1.f5()\n",
    "c1.f6()"
   ]
  },
  {
   "cell_type": "code",
   "execution_count": 97,
   "id": "977c47f2",
   "metadata": {},
   "outputs": [],
   "source": [
    "class A:\n",
    "    def __init__(self):\n",
    "        print('init a')\n",
    "    def f1(self):                                                           \n",
    "        print('feature 1 working')                                  \n",
    "    def f2(self):                                           #multiple inheritance\n",
    "        print('feature 2 working')\n",
    "class B:\n",
    "    def __init__(self):\n",
    "        print('init b')\n",
    "    def f3(self):                                          \n",
    "        print('feature 3 working')\n",
    "    def f4(self):\n",
    "        print('feature 4 working')\n",
    "class C(A,B):\n",
    "    def __init__(self):\n",
    "        print('init c')\n",
    "    def f5(self):                                          # C is inherting B and A\n",
    "        print('feature 5 working')\n",
    "    def f6(self):\n",
    "        print('feature 6 working')"
   ]
  },
  {
   "cell_type": "code",
   "execution_count": 98,
   "id": "08760978",
   "metadata": {},
   "outputs": [
    {
     "name": "stdout",
     "output_type": "stream",
     "text": [
      "init c\n"
     ]
    }
   ],
   "source": [
    "c1=C()"
   ]
  },
  {
   "cell_type": "code",
   "execution_count": 110,
   "id": "0aefa326",
   "metadata": {},
   "outputs": [],
   "source": [
    "class A:\n",
    "    def __init__(self):\n",
    "        print('init a')\n",
    "    def f1(self):                                                           \n",
    "        print('feature 1 working')                                  \n",
    "    def f2(self):                                           #multiple inheritance\n",
    "        print('feature 2 working')\n",
    "class B:\n",
    "    def __init__(self):\n",
    "        print('init b')\n",
    "    def f3(self):                                          \n",
    "        print('feature 3 working')\n",
    "    def f4(self):\n",
    "        print('feature 4 working')\n",
    "class C(A,B):\n",
    "    def __init__(self):\n",
    "        print('init c')\n",
    "        super().__init__()\n",
    "    def f1(self):                                          # C is inherting B and A\n",
    "        print('feature 1-c working')\n",
    "        super().f1()\n",
    "    def f6(self):\n",
    "        print('feature 6 working')"
   ]
  },
  {
   "cell_type": "code",
   "execution_count": 111,
   "id": "3133c9a7",
   "metadata": {},
   "outputs": [
    {
     "name": "stdout",
     "output_type": "stream",
     "text": [
      "init c\n",
      "init a\n"
     ]
    }
   ],
   "source": [
    "c1=C()          #method resolution order"
   ]
  },
  {
   "cell_type": "code",
   "execution_count": 112,
   "id": "0e5e028e",
   "metadata": {},
   "outputs": [
    {
     "name": "stdout",
     "output_type": "stream",
     "text": [
      "feature 1-c working\n",
      "feature 1 working\n"
     ]
    }
   ],
   "source": [
    "c1.f1()"
   ]
  },
  {
   "cell_type": "markdown",
   "id": "5aa15e8e",
   "metadata": {},
   "source": [
    "POLYMORPHISM\n",
    "            ->duck typing\n",
    "            ->operator overloading\n",
    "            ->method overloading     (NOT SUPPORTED BY PYTHON)\n",
    "            ->method overriding"
   ]
  },
  {
   "cell_type": "code",
   "execution_count": 7,
   "id": "92b9efdd",
   "metadata": {},
   "outputs": [],
   "source": [
    "class laptop:\n",
    "    def code(self,ide):\n",
    "        ide.execute()\n",
    "class pycharm:\n",
    "    def execute(self):\n",
    "        print(\"compiling\\nexecuting\")\n",
    "class raju:\n",
    "    def execute(self):\n",
    "        print(\"convention checking \\n debugging\\ncompiling\\nexecuting\")"
   ]
  },
  {
   "cell_type": "code",
   "execution_count": 5,
   "id": "5c1987ca",
   "metadata": {},
   "outputs": [],
   "source": [
    "lap1=laptop()\n",
    "ide=pycharm()"
   ]
  },
  {
   "cell_type": "code",
   "execution_count": 6,
   "id": "0defb7b3",
   "metadata": {},
   "outputs": [
    {
     "name": "stdout",
     "output_type": "stream",
     "text": [
      "compiling\n",
      "executing\n"
     ]
    }
   ],
   "source": [
    "lap1.code(ide)"
   ]
  },
  {
   "cell_type": "code",
   "execution_count": 8,
   "id": "fc2b8a74",
   "metadata": {},
   "outputs": [
    {
     "name": "stdout",
     "output_type": "stream",
     "text": [
      "convention checking \n",
      " debugging\n",
      "compiling\n",
      "executing\n"
     ]
    }
   ],
   "source": [
    "ide=raju()\n",
    "lap1.code(ide)"
   ]
  },
  {
   "cell_type": "code",
   "execution_count": 9,
   "id": "07b4026a",
   "metadata": {},
   "outputs": [
    {
     "name": "stdout",
     "output_type": "stream",
     "text": [
      "8\n",
      "8\n",
      "34\n"
     ]
    }
   ],
   "source": [
    "#operator overloading\n",
    "a=5\n",
    "b=3\n",
    "print(a+b)   #synthetic sugar(makes code easier)\n",
    "print(int.__add__(a,b)) #internal working    \n",
    "\n",
    "a='3'\n",
    "b='4'\n",
    "print(str.__add__(a,b))\n",
    "#in python int is an class which contains some methods including add,sub,etc\n",
    "#similarly we can define operations on user defined objects using magic methods\n",
    "#so this helps to overwrite the existing meaning of operator is called OPERATOR OVERLOADING"
   ]
  },
  {
   "cell_type": "code",
   "execution_count": 11,
   "id": "b405ad52",
   "metadata": {},
   "outputs": [],
   "source": [
    "class student:\n",
    "    def __init__(self,m1,m2):\n",
    "        self.m1=m1\n",
    "        self.m2=m2"
   ]
  },
  {
   "cell_type": "code",
   "execution_count": 12,
   "id": "3f528732",
   "metadata": {},
   "outputs": [],
   "source": [
    "s1=student(23,34)\n",
    "s2=student(34,45)"
   ]
  },
  {
   "cell_type": "code",
   "execution_count": 13,
   "id": "ab396171",
   "metadata": {},
   "outputs": [
    {
     "ename": "TypeError",
     "evalue": "unsupported operand type(s) for +: 'student' and 'student'",
     "output_type": "error",
     "traceback": [
      "\u001b[1;31m---------------------------------------------------------------------------\u001b[0m",
      "\u001b[1;31mTypeError\u001b[0m                                 Traceback (most recent call last)",
      "Input \u001b[1;32mIn [13]\u001b[0m, in \u001b[0;36m<cell line: 1>\u001b[1;34m()\u001b[0m\n\u001b[1;32m----> 1\u001b[0m \u001b[38;5;28mprint\u001b[39m(\u001b[43ms1\u001b[49m\u001b[38;5;241;43m+\u001b[39;49m\u001b[43ms2\u001b[49m)\n",
      "\u001b[1;31mTypeError\u001b[0m: unsupported operand type(s) for +: 'student' and 'student'"
     ]
    }
   ],
   "source": [
    "print(s1+s2)    #since the add operation is not defined to student objects"
   ]
  },
  {
   "cell_type": "code",
   "execution_count": 50,
   "id": "e0290798",
   "metadata": {},
   "outputs": [],
   "source": [
    "class student:\n",
    "    def __init__(self,m1,m2):\n",
    "        self.m1=m1\n",
    "        self.m2=m2\n",
    "    def __add__(self,other):\n",
    "        m1=self.m1+other.m1\n",
    "        m2=self.m2+other.m2\n",
    "        s3=student(m1,m2)\n",
    "        return s3\n",
    "    def __sub__(self,other):\n",
    "        m1=self.m1-other.m1\n",
    "        m2=self.m2-other.m2\n",
    "        s3=student(m1,m2)\n",
    "        return s3\n",
    "    def __gt__(self,other):\n",
    "        if self.m1>other.m1 and self.m2>other.m1:\n",
    "            return 'first person scored high marks'\n",
    "        else:\n",
    "            return 'first person might scored high marks either in one subject or not'\n",
    "    def __str__(self):\n",
    "        return '{},{}'.format(self.m1,self.m2)"
   ]
  },
  {
   "cell_type": "code",
   "execution_count": 51,
   "id": "2b91b0b9",
   "metadata": {},
   "outputs": [
    {
     "name": "stdout",
     "output_type": "stream",
     "text": [
      "23,34\n"
     ]
    }
   ],
   "source": [
    "s1=student(23,34)\n",
    "s2=student(45,67)\n",
    "print(s1)"
   ]
  },
  {
   "cell_type": "code",
   "execution_count": 52,
   "id": "998ba7d4",
   "metadata": {},
   "outputs": [
    {
     "name": "stdout",
     "output_type": "stream",
     "text": [
      "68,101\n"
     ]
    }
   ],
   "source": [
    "print(s1+s2)\n"
   ]
  },
  {
   "cell_type": "code",
   "execution_count": 44,
   "id": "711a3f13",
   "metadata": {},
   "outputs": [
    {
     "name": "stdout",
     "output_type": "stream",
     "text": [
      "<__main__.student object at 0x015A5130>\n",
      "68\n",
      "101\n"
     ]
    }
   ],
   "source": [
    "s3=s1+s2\n",
    "print(s3)\n",
    "print(s3.m1)\n",
    "print(s3.m2)"
   ]
  },
  {
   "cell_type": "code",
   "execution_count": 23,
   "id": "5dc2adae",
   "metadata": {},
   "outputs": [
    {
     "name": "stdout",
     "output_type": "stream",
     "text": [
      "-22 -33\n"
     ]
    }
   ],
   "source": [
    "s3=s1-s2\n",
    "print(s3.m1,s3.m2)"
   ]
  },
  {
   "cell_type": "code",
   "execution_count": 31,
   "id": "1dc8a839",
   "metadata": {},
   "outputs": [
    {
     "name": "stdout",
     "output_type": "stream",
     "text": [
      "<__main__.student object at 0x0643D688> might scored high marks either in one subject or not\n",
      "None\n"
     ]
    }
   ],
   "source": [
    "print(s1>s2)"
   ]
  },
  {
   "cell_type": "code",
   "execution_count": 59,
   "id": "be5a55d1",
   "metadata": {},
   "outputs": [
    {
     "ename": "TypeError",
     "evalue": "sum() missing 1 required positional argument: 'c'",
     "output_type": "error",
     "traceback": [
      "\u001b[1;31m---------------------------------------------------------------------------\u001b[0m",
      "\u001b[1;31mTypeError\u001b[0m                                 Traceback (most recent call last)",
      "Input \u001b[1;32mIn [59]\u001b[0m, in \u001b[0;36m<cell line: 8>\u001b[1;34m()\u001b[0m\n\u001b[0;32m      6\u001b[0m         \u001b[38;5;28;01mreturn\u001b[39;00m a\u001b[38;5;241m+\u001b[39mb\u001b[38;5;241m+\u001b[39mc                      \u001b[38;5;66;03m#python don't support method overloading\u001b[39;00m\n\u001b[0;32m      7\u001b[0m s1\u001b[38;5;241m=\u001b[39msample()\n\u001b[1;32m----> 8\u001b[0m \u001b[38;5;28mprint\u001b[39m(\u001b[43ms1\u001b[49m\u001b[38;5;241;43m.\u001b[39;49m\u001b[43msum\u001b[49m\u001b[43m(\u001b[49m\u001b[38;5;241;43m2\u001b[39;49m\u001b[43m,\u001b[49m\u001b[38;5;241;43m3\u001b[39;49m\u001b[43m)\u001b[49m)\n",
      "\u001b[1;31mTypeError\u001b[0m: sum() missing 1 required positional argument: 'c'"
     ]
    }
   ],
   "source": [
    "#METHOD OVERLOADING\n",
    "class sample:\n",
    "    def sum(self,a,b):\n",
    "        return a+b\n",
    "    def sum(self,a,b,c):\n",
    "        return a+b+c                      #python don't support method overloading\n",
    "s1=sample()\n",
    "print(s1.sum(2,3))"
   ]
  },
  {
   "cell_type": "code",
   "execution_count": 63,
   "id": "afb71746",
   "metadata": {},
   "outputs": [
    {
     "name": "stdout",
     "output_type": "stream",
     "text": [
      "5\n",
      "30\n",
      "2\n"
     ]
    }
   ],
   "source": [
    "class sample:\n",
    "    def sum(self,a=0,b=0,c=0):\n",
    "        return a+b+c                      #alternate method for method overloading in python\n",
    "s1=sample()\n",
    "print(s1.sum(2,3))\n",
    "print(s1.sum(23,3,4))\n",
    "print(s1.sum(2))"
   ]
  },
  {
   "cell_type": "code",
   "execution_count": 70,
   "id": "4fafba2f",
   "metadata": {},
   "outputs": [],
   "source": [
    "#method overriding\n",
    "class a:\n",
    "    def f1(self):                             #parent class\n",
    "        print('i am in class A')\n",
    "class b(a):\n",
    "    def f1(self):                             #child class\n",
    "        print('i am in class b')"
   ]
  },
  {
   "cell_type": "code",
   "execution_count": 71,
   "id": "97bddd4e",
   "metadata": {},
   "outputs": [
    {
     "name": "stdout",
     "output_type": "stream",
     "text": [
      "i am in class A\n"
     ]
    }
   ],
   "source": [
    "s1=a()\n",
    "s1.f1()"
   ]
  },
  {
   "cell_type": "code",
   "execution_count": 73,
   "id": "5fc385d3",
   "metadata": {},
   "outputs": [
    {
     "name": "stdout",
     "output_type": "stream",
     "text": [
      "i am in class b\n"
     ]
    }
   ],
   "source": [
    "s1=b()\n",
    "s1.f1()"
   ]
  }
 ],
 "metadata": {
  "kernelspec": {
   "display_name": "Python 3 (ipykernel)",
   "language": "python",
   "name": "python3"
  },
  "language_info": {
   "codemirror_mode": {
    "name": "ipython",
    "version": 3
   },
   "file_extension": ".py",
   "mimetype": "text/x-python",
   "name": "python",
   "nbconvert_exporter": "python",
   "pygments_lexer": "ipython3",
   "version": "3.9.12"
  }
 },
 "nbformat": 4,
 "nbformat_minor": 5
}
